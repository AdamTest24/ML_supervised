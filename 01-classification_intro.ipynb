{
 "cells": [
  {
   "cell_type": "raw",
   "id": "f598638b",
   "metadata": {},
   "source": [
    "---\n",
    "title: \"Classification\"\n",
    "teaching: 10\n",
    "exercises: 2\n",
    "---"
   ]
  },
  {
   "cell_type": "markdown",
   "id": "5b98b6cd",
   "metadata": {},
   "source": [
    "[**Download Chapter pdf**](01-classification_intro.md.pdf)\n",
    "\n",
    "[**Download Chapter notebook (ipynb)**](01-classification_intro.ipynb)\n",
    "\n",
    "[<span style=\"color: rgb(255, 0, 0);\">**Mandatory Lesson Feedback Survey**</span>](https://docs.google.com/forms/d/e/1FAIpQLSdr0capF7jloJhPH3Pki1B3LZoKOG16poOpuVJ7SL2LkwLHQA/viewform?pli=1)"
   ]
  },
  {
   "cell_type": "markdown",
   "id": "2bcb8ad3",
   "metadata": {},
   "source": [
    "- How to prepare data for classification?\n",
    "- Why do we need to train a model?\n",
    "- What does a state space plot represent?\n",
    "- How to obtain prediction probabilities?\n",
    "- What are the important features?\n"
   ]
  },
  {
   "cell_type": "markdown",
   "id": "2b6958e4",
   "metadata": {},
   "source": [
    "- Understanding the classification challenge.\n",
    "- Training a classifier model.\n",
    "- Understanding the state space plot of model predictions.\n",
    "- Obtaining prediction probabilities.\n",
    "- Finding important features.\n"
   ]
  },
  {
   "cell_type": "markdown",
   "id": "58e29571",
   "metadata": {},
   "source": [
    "- [Data Handling]()\n",
    "- [Numpy arrays (see accompanying tutorial)]()\n",
    "- [Basic Matplotlib plotting]()\n",
    "\n"
   ]
  },
  {
   "cell_type": "markdown",
   "id": "c69a40f0",
   "metadata": {},
   "source": [
    "### **Import functions**"
   ]
  },
  {
   "cell_type": "code",
   "execution_count": null,
   "id": "00449e95",
   "metadata": {},
   "outputs": [],
   "source": [
    "from pandas import read_csv\n",
    "\n",
    "from numpy import arange, asarray, linspace, c_, meshgrid, zeros, ones\n",
    "\n",
    "from numpy.random import uniform, seed\n",
    "\n",
    "from matplotlib.pyplot import subplots, scatter, xlabel, ylabel, xticks, show"
   ]
  },
  {
   "cell_type": "markdown",
   "id": "6df17a76",
   "metadata": {},
   "source": [
    "## Example: Visual Classification\n",
    "\n",
    "Import the 'patients_data' toy dataset and scatter the data for Height and Weight.\n"
   ]
  },
  {
   "cell_type": "code",
   "execution_count": null,
   "id": "ecbe174f",
   "metadata": {},
   "outputs": [],
   "source": [
    "# Please adjust your path to the file\n",
    "df = read_csv('data/patients_data.csv') \n",
    "\n",
    "print(df.shape)\n",
    "\n",
    "# Convert inches to cm and pounds to kg:\n",
    "df['Height'] = 2.540*df['Height']\n",
    "df['Weight'] = 0.454*df['Weight']\n",
    "\n",
    "df.head(10)"
   ]
  },
  {
   "cell_type": "markdown",
   "id": "fe4f1ab0",
   "metadata": {},
   "source": [
    "```{.output}\n",
    "(100, 7)\n",
    "   Age  Height  Weight  Systolic  Diastolic  Smoker  Gender\n",
    "0   38  180.34  79.904       124         93       1    Male\n",
    "1   43  175.26  74.002       109         77       0    Male\n",
    "2   38  162.56  59.474       125         83       0  Female\n",
    "3   40  170.18  60.382       117         75       0  Female\n",
    "4   49  162.56  54.026       122         80       0  Female\n",
    "5   46  172.72  64.468       121         70       0  Female\n",
    "6   33  162.56  64.468       130         88       1  Female\n",
    "7   40  172.72  81.720       115         82       0    Male\n",
    "8   28  172.72  83.082       115         78       0    Male\n",
    "9   31  167.64  59.928       118         86       0  Female\n",
    "```\n",
    "\n",
    "<p style='text-align: justify;'>\n",
    "Note that data in the first five columns are either integers (age) or real numbers (floating point). The classes (categorical data) in the last two columns come as binary (0/1) for 'smokers/non-smokers' and as strings for 'male/female'. Both can be used for classification.\n",
    "</p>"
   ]
  },
  {
   "cell_type": "markdown",
   "id": "b28f35a8",
   "metadata": {},
   "source": [
    "## The classification challenge\n",
    "\n",
    "<p style='text-align: justify;'>\n",
    "I am given a set of data from a single subject and feed them to a computational model. The model then predicts to what (predefined) _class_ this subject belongs. Example: given height and weight data, the model might try to predict whether the subject is a smoker or a non-smoker. A naive model will, of course, not be able to predict reasonably. The _supervised_ approach in machine learning is to provide the model with a set of data where the class has been verified beforehand and the model can test its (initially random) predictions against the provided class. An optimisation algorithm is then run to adjust the (internal) model setting such that the predictions improve as much as possible. When no further improvement is achieved, the algorithm stops. The model is then _trained_ and ready to predict. \n",
    "</p>"
   ]
  },
  {
   "cell_type": "markdown",
   "id": "f92fd8d4",
   "metadata": {},
   "source": [
    "<p style='text-align: justify;'>\n",
    "The act of classification is to assign labels to unlabelled data after model exposure to previously labelled data (e.g. based on medical knowledge in the case of disease data). \n",
    "</p>\n",
    "<p style='text-align: justify;'>\n",
    "In contrast, in _unsupervised machine learning_ the assignment is done based on exposure to unlabelled data following a search for distinctive features or 'structure' in the data.\n",
    "</p>\n",
    "<p style='text-align: justify;'>\n",
    "We can first check if we are able to distinguish classes visually. For this, we scatter the data of two columns of a dataframe using the column names. That is, we look at the distribution of points in a plane. Then we use the class __label__ to color each point in the plane according to the class it belongs to. String labels like 'male' / 'female' first need to be converted to Boolean (binary). 0/1 labels as in the 'smokers/non-smokers' column can be used directly. \n",
    "</p>\n",
    "\n",
    "Let us plot the height-weight data and label them for both cases. \n"
   ]
  },
  {
   "cell_type": "code",
   "execution_count": null,
   "id": "d7222098",
   "metadata": {},
   "outputs": [],
   "source": [
    "fig, ax = subplots(figsize=(12,6),ncols=2,nrows=1)\n",
    "\n",
    "gender_boolean = df['Gender'] == 'Female'\n",
    "\n",
    "ax[0].scatter(df['Height'], df['Weight'], c=gender_boolean, cmap='bwr')\n",
    "ax[0].set_xlabel('Height', fontsize=14)\n",
    "ax[0].set_ylabel('Weight', fontsize=14)\n",
    "ax[0].set_title('Female (red), Male (blue)', fontsize=16)\n",
    "\n",
    "ax[1].scatter(df['Height'], df['Weight'], c=df['Smoker'], cmap='bwr')\n",
    "ax[1].set_xlabel('Height', fontsize=16)\n",
    "ax[1].set_ylabel('Weight', fontsize=16)\n",
    "ax[1].set_title('Smoker (red), Non-Smoker (blue)', fontsize=16);\n",
    "\n",
    "show()"
   ]
  },
  {
   "cell_type": "markdown",
   "id": "42cabca0",
   "metadata": {},
   "source": [
    "<img src=\"fig/01-classification_intro-rendered-unnamed-chunk-3-1.png\" width=\"1152\" style=\"display: block; margin: auto;\" />\n",
    "\n",
    "<p style='text-align: justify;'>\n",
    "It appears from these graphs that based on height and weight data it is possible to distinguish male and female. Based on visual inspection one could conclude that everybody with a weight lower than 70kg is female and everybody with a weight above 70kg is male. That would be a classification based on the weight alone. It also appears that the data points classified as 'male' are taller on average, so it might be helpful to have the height recorded as well. E.g it could improve the prediction of gender for new subjects with a weight around 70 kg. But it would not be the best choice if only a single quantity was used. Thus, a second conclusion is that based on these data the weight is more important for the classification than the height.\n",
    "</p>\n",
    "\n",
    "<p style='text-align: justify;'>\n",
    "On the other hand, based on the smoker / non-smoker data it will not be possible to distinguish smokers from non-smokers. Red dots and blue dots are scattered throughout the graph. The conclusion is that height and weight cannot be used to predict whether a subject is a smoker.\n",
    "</p>\n",
    "\n",
    "## Supervised Learning: Training a Model\n",
    "<p style='text-align: justify;'>\n",
    "This lesson deals with labelled data. Labelled data are numerical data with an extra column of a __label__ for each sample. A sample can consist of any number of individual observations but must be at least two. \n",
    "</p>\n",
    "Examples of labels include 'control group / test group'; 'male / female'; 'healthy / diseased'; 'before treatment / after treatment'.\n",
    "<p style='text-align: justify;'>\n",
    "The task in Supervised Machine Learning is to fit (train) a model to distinguish between the groups by 'learning' from so-called training data. After training, the optimised model automatically labels incoming (unlabeled) data. The better the model, the better the labelling (prediction).\n",
    "</p>\n",
    "<p style='text-align: justify;'>\n",
    "The model itself is a black box. It has set default parameters to start with and thus performs badly in the beginning. Essentially, it starts by predicting a label at random. The process of training consists in repeatedly changing the model parameters such that the performance improves. After the training, the model parameters are supposed to be optimal. Of course, the model cannot be expected to reveal anything about the mechanism or cause that underlies the distinction between the labels.\n",
    "</p>\n",
    "The performance of the model is tested by splitting a dataset with labels into:\n",
    "\n",
    "- the `train data`, those that will be used for model fitting, and \n",
    "\n",
    "- the `test data`, those that will be used to check how well the model predicts.\n",
    "\n",
    "<p style='text-align: justify;'>\n",
    "The result of the model fitting is then assessed by checking how many of the (withheld) labels in the test data were correctly predicted by the trained model. We can also retrieve the confidence of the model prediction, i.e. the probability that the assigned label is correct. \n",
    "</p>\n",
    "<p style='text-align: justify;'>\n",
    "As an additional result, the procedure will generate the so-called feature importances: similar to how we concluded above that weight is more important than height for gender prediction, the feature importance informs to which degree each of the data columns actually contributes to the predictions. \n",
    "</p>\n",
    "\n",
    "## Scikit Learn\n",
    "\n",
    "We will import our machine learning functionality from the [SciKit Learn library](https://scikit-learn.org/stable/).\n",
    "\n",
    "## SciKit Learn\n",
    "<p style='text-align: justify;'>\n",
    "SciKit Learn is a renowned open source application programming interface (API) for machine learning. It enjoys a vibrant community and is well maintained. It is always beneficial to use the official documentations for every API. SciKit Learn provides an exceptional documentation with detailed explanations and examples at every level.\n",
    "</p>"
   ]
  },
  {
   "cell_type": "markdown",
   "id": "8d42ee3b",
   "metadata": {},
   "source": [
    "<p style='text-align: justify;'>\n",
    "The implementation of algorithms in SciKit Learn follows a very specific protocol. First and foremost, it uses a programming paradigm known as object-oriented programming (OOP). Thanks to Python, this does not mean that you as the user are also forced to use OOP. But you need to follow a specific protocol to use the tools that are provided by SciKit Learn.\n",
    "</p>\n",
    "<p style='text-align: justify;'>\n",
    "Unlike functions that perform a specific task and return the results, in OOP, we use _classes_ to encapsulate interconnected components and functionalities. In accordance with the convention of best practices for Python programming (also known as PEP8), classes are implemented with camel-case characters; e.g. `RandomForestClassifier`. In contrast, functions should be implemented using lower-case characters only; e.g. `min` or `round`.\n",
    "</p>\n",
    "\n",
    "## Classification\n",
    "\n",
    "### **Prepare data with labels**\n",
    "<p style='text-align: justify;'>\n",
    "The terminology that is widely used in Machine Learning (including Scikit Learn) refers to data points as __samples__, and the different types of recordings(columns in our case) are referred to as __features__. In `Numpy` notation, samples are organised in rows, features in columns.\n",
    "</p>\n",
    "<p style='text-align: justify;'>\n",
    "We can use the function `uniform` from numpy.random to generate uniformly distributed random data. Here we create 100 samples of two features (as in the visualisation above). We decide to have values distributed between 0 and 100.\n",
    "</p>\n",
    "<p style='text-align: justify;'>\n",
    "The convention in machine learning is to call the training data 'X'. This array must be __two dimensional__, where rows are the samples and columns are the features.\n",
    "</p>\n"
   ]
  },
  {
   "cell_type": "code",
   "execution_count": null,
   "id": "396d7eb0",
   "metadata": {},
   "outputs": [],
   "source": [
    "low  = 0\n",
    "high = 100\n",
    "\n",
    "n_samples, m_features = 100, 2\n",
    "\n",
    "RANDOM_SEED  = 1234\n",
    "\n",
    "seed(RANDOM_SEED)\n",
    "\n",
    "random_numbers = uniform(low=low, high=high, size=(n_samples, m_features))\n",
    "\n",
    "X = random_numbers.round(3)\n",
    "\n",
    "print('Dimensions of training data')\n",
    "print('')\n",
    "print('Number of samples:  ', X.shape[0])\n",
    "print('Number of features: ', X.shape[1])\n",
    "print('')"
   ]
  },
  {
   "cell_type": "markdown",
   "id": "de860d31",
   "metadata": {},
   "source": [
    "```{.output}\n",
    "Dimensions of training data\n",
    "\n",
    "Number of samples:   100\n",
    "Number of features:  2\n",
    "```\n",
    "\n",
    "## Note\n",
    "<p style='text-align: justify;'>\n",
    "This code uses a __random number generator__. The output of a random number generator is different each time it is run. On the one hand, this is good because it allows us to create many realisations of samples drawn from a fixed distribution. On the other hand, when testing and sharing code this prevents exact reproduction of results. We therefore use the `seed` function to reset the generator such that with a given number for the seed (the parameter called `RANDOM_SEED`) the same numbers are produced. \n",
    "</p>"
   ]
  },
  {
   "cell_type": "markdown",
   "id": "43ae94c4",
   "metadata": {},
   "source": [
    "Let us check the histograms of both features:\n"
   ]
  },
  {
   "cell_type": "code",
   "execution_count": null,
   "id": "4e06fe88",
   "metadata": {},
   "outputs": [],
   "source": [
    "fig, ax = subplots()\n",
    "\n",
    "ax.hist(X, bins=10);\n",
    "\n",
    "show()"
   ]
  },
  {
   "cell_type": "markdown",
   "id": "f41f7c38",
   "metadata": {},
   "source": [
    "<img src=\"fig/01-classification_intro-rendered-unnamed-chunk-5-3.png\" width=\"672\" style=\"display: block; margin: auto;\" />\n",
    "\n",
    "<p style='text-align: justify;'>\n",
    "We find that both features are distributed over the selected range of values. Due to the small number of samples, the distribution is not very even. \n",
    "</p>\n",
    "<p style='text-align: justify;'>\n",
    "The categorical data used to distinguish between different classes are called __labels__. Let us create an artificial set of labels for our first classification task. \n",
    "</p>\n",
    "<p style='text-align: justify;'>\n",
    "We pick an arbitrary threshold and call all values `True` if the values in both the first and the second feature are above the threshold. The resulting labels `True` and `False` can be viewed as 0/1 using the method `astype` with argument `int`.\n",
    "</p>\n"
   ]
  },
  {
   "cell_type": "code",
   "execution_count": null,
   "id": "ddfdff6f",
   "metadata": {},
   "outputs": [],
   "source": [
    "threshold = 50\n",
    "\n",
    "y = (X[:,0] > threshold) & (X[:,1] > threshold)\n",
    "\n",
    "y.astype(int)"
   ]
  },
  {
   "cell_type": "markdown",
   "id": "c39787fe",
   "metadata": {},
   "source": [
    "```{.output}\n",
    "array([0, 0, 0, 0, 1, 0, 1, 0, 0, 1, 0, 0, 1, 0, 0, 0, 0, 1, 0, 0, 0, 0,\n",
    "       1, 0, 0, 0, 0, 1, 1, 1, 0, 0, 0, 0, 0, 1, 0, 0, 0, 0, 0, 1, 0, 1,\n",
    "       0, 0, 1, 0, 1, 0, 1, 1, 0, 0, 0, 0, 0, 0, 0, 1, 1, 1, 0, 0, 0, 0,\n",
    "       0, 0, 0, 0, 0, 1, 0, 0, 0, 1, 0, 1, 1, 1, 0, 1, 1, 0, 1, 0, 0, 0,\n",
    "       0, 1, 0, 1, 0, 0, 0, 0, 0, 0, 0, 1])\n",
    "```\n",
    "\n",
    "If both features (columns) were risk factors, this might be interpreted as: only if both risk factors are above the threshold, a subject is classified as 'at risk', meaning it gets label 'True' or '1'.\n",
    "\n",
    "Labels must be __one-dimensional__. You can check this by printing the `shape`.\n",
    "The output should be a single number:\n"
   ]
  },
  {
   "cell_type": "code",
   "execution_count": null,
   "id": "949db2c2",
   "metadata": {},
   "outputs": [],
   "source": [
    "print('Number of labels:', y.shape)"
   ]
  },
  {
   "cell_type": "markdown",
   "id": "c0d57d57",
   "metadata": {},
   "source": [
    "```{.output}\n",
    "Number of labels: (100,)\n",
    "```\n",
    "\n",
    "### **The Random Forest Classifier**\n",
    "\n",
    "To start with our learning algorithm, we import one of the many classifiers from Scikit Learn: it is called Random Forest.\n",
    "\n"
   ]
  },
  {
   "cell_type": "code",
   "execution_count": null,
   "id": "3623237e",
   "metadata": {},
   "outputs": [],
   "source": [
    "from sklearn.ensemble import RandomForestClassifier"
   ]
  },
  {
   "cell_type": "markdown",
   "id": "2663513a",
   "metadata": {},
   "source": [
    "The Random Forest is a member of the ensemble learning family, whose objective is to combine the predictions of several optimisations to improve their performance, generalisability, and robustness. \n",
    "\n",
    "Ensemble methods are often divided into two different categories:\n",
    "\n",
    "1. Averaging methods: Build several estimators independently, and average their predictions. In general, the combined estimator tends to perform better than any single estimator due to the reduction in variance. Examples: Random Forest and Decision Tree.\n",
    "\n",
    "2. Boosting methods: Build the estimators sequentially, and attempt to reduce the bias of the combined estimator. Although the performance of individual estimators may be weak, upon combination, they amount to a powerful ensemble. Examples: Gradient Boosting and AdaBoost.\n",
    "\n",
    "<p style='text-align: justify;'>\n",
    "We now train a model using the Python class for the Random Forest classifier. Unlike a function (which we can use out of the box) a class needs to be _instantiated_ before it can be used. In Python, we instantiate a class as follows:\n",
    "</p>\n"
   ]
  },
  {
   "cell_type": "code",
   "execution_count": null,
   "id": "b52cabf2",
   "metadata": {},
   "outputs": [],
   "source": [
    "clf = RandomForestClassifier(random_state=RANDOM_SEED)"
   ]
  },
  {
   "cell_type": "markdown",
   "id": "54bae897",
   "metadata": {},
   "source": [
    "<p style='text-align: justify;'>\n",
    "where `clf` now represents an _instance_ of class `RandomForestClassifier`. Note that we have set the keyword argument `random_state` to a number. This is to assure reproducibility of the results. (It does not have to be the same as above, pick any integer).\n",
    "</p>\n",
    "\n",
    "The instance of a class is typically referred to as an object, whose type is the class that it represents:\n"
   ]
  },
  {
   "cell_type": "code",
   "execution_count": null,
   "id": "5be59498",
   "metadata": {},
   "outputs": [],
   "source": [
    "print('Type of clf:', type(clf))\n",
    "print('')"
   ]
  },
  {
   "cell_type": "markdown",
   "id": "c05ae5df",
   "metadata": {},
   "source": [
    "```{.output}\n",
    "Type of clf: <class 'sklearn.ensemble._forest.RandomForestClassifier'>\n",
    "```\n",
    "\n",
    "<p style='text-align: justify;'>\n",
    "Once instantiated, we can use this object, `clf`, to access the methods that are associated with that class. Methods are essentially functions that are encapsulated inside a class.\n",
    "</p>\n",
    "<p style='text-align: justify;'>\n",
    "In SciKit Learn all classes have a `.fit()`  method. Its function is to receive the training data and perform the training of the model.\n",
    "</p>\n",
    "\n",
    "### Train a model\n",
    "\n",
    "To train a model, we apply the fit method to the training data, labelled 'X', given the corresponding labels 'y':\n",
    "\n"
   ]
  },
  {
   "cell_type": "code",
   "execution_count": null,
   "id": "dd50f4bd",
   "metadata": {},
   "outputs": [],
   "source": [
    "clf.fit(X, y)"
   ]
  },
  {
   "cell_type": "markdown",
   "id": "c8700c8c",
   "metadata": {},
   "source": [
    "```{=html}\n",
    "<style>#sk-container-id-1 {color: black;background-color: white;}#sk-container-id-1 pre{padding: 0;}#sk-container-id-1 div.sk-toggleable {background-color: white;}#sk-container-id-1 label.sk-toggleable__label {cursor: pointer;display: block;width: 100%;margin-bottom: 0;padding: 0.3em;box-sizing: border-box;text-align: center;}#sk-container-id-1 label.sk-toggleable__label-arrow:before {content: \"▸\";float: left;margin-right: 0.25em;color: #696969;}#sk-container-id-1 label.sk-toggleable__label-arrow:hover:before {color: black;}#sk-container-id-1 div.sk-estimator:hover label.sk-toggleable__label-arrow:before {color: black;}#sk-container-id-1 div.sk-toggleable__content {max-height: 0;max-width: 0;overflow: hidden;text-align: left;background-color: #f0f8ff;}#sk-container-id-1 div.sk-toggleable__content pre {margin: 0.2em;color: black;border-radius: 0.25em;background-color: #f0f8ff;}#sk-container-id-1 input.sk-toggleable__control:checked~div.sk-toggleable__content {max-height: 200px;max-width: 100%;overflow: auto;}#sk-container-id-1 input.sk-toggleable__control:checked~label.sk-toggleable__label-arrow:before {content: \"▾\";}#sk-container-id-1 div.sk-estimator input.sk-toggleable__control:checked~label.sk-toggleable__label {background-color: #d4ebff;}#sk-container-id-1 div.sk-label input.sk-toggleable__control:checked~label.sk-toggleable__label {background-color: #d4ebff;}#sk-container-id-1 input.sk-hidden--visually {border: 0;clip: rect(1px 1px 1px 1px);clip: rect(1px, 1px, 1px, 1px);height: 1px;margin: -1px;overflow: hidden;padding: 0;position: absolute;width: 1px;}#sk-container-id-1 div.sk-estimator {font-family: monospace;background-color: #f0f8ff;border: 1px dotted black;border-radius: 0.25em;box-sizing: border-box;margin-bottom: 0.5em;}#sk-container-id-1 div.sk-estimator:hover {background-color: #d4ebff;}#sk-container-id-1 div.sk-parallel-item::after {content: \"\";width: 100%;border-bottom: 1px solid gray;flex-grow: 1;}#sk-container-id-1 div.sk-label:hover label.sk-toggleable__label {background-color: #d4ebff;}#sk-container-id-1 div.sk-serial::before {content: \"\";position: absolute;border-left: 1px solid gray;box-sizing: border-box;top: 0;bottom: 0;left: 50%;z-index: 0;}#sk-container-id-1 div.sk-serial {display: flex;flex-direction: column;align-items: center;background-color: white;padding-right: 0.2em;padding-left: 0.2em;position: relative;}#sk-container-id-1 div.sk-item {position: relative;z-index: 1;}#sk-container-id-1 div.sk-parallel {display: flex;align-items: stretch;justify-content: center;background-color: white;position: relative;}#sk-container-id-1 div.sk-item::before, #sk-container-id-1 div.sk-parallel-item::before {content: \"\";position: absolute;border-left: 1px solid gray;box-sizing: border-box;top: 0;bottom: 0;left: 50%;z-index: -1;}#sk-container-id-1 div.sk-parallel-item {display: flex;flex-direction: column;z-index: 1;position: relative;background-color: white;}#sk-container-id-1 div.sk-parallel-item:first-child::after {align-self: flex-end;width: 50%;}#sk-container-id-1 div.sk-parallel-item:last-child::after {align-self: flex-start;width: 50%;}#sk-container-id-1 div.sk-parallel-item:only-child::after {width: 0;}#sk-container-id-1 div.sk-dashed-wrapped {border: 1px dashed gray;margin: 0 0.4em 0.5em 0.4em;box-sizing: border-box;padding-bottom: 0.4em;background-color: white;}#sk-container-id-1 div.sk-label label {font-family: monospace;font-weight: bold;display: inline-block;line-height: 1.2em;}#sk-container-id-1 div.sk-label-container {text-align: center;}#sk-container-id-1 div.sk-container {/* jupyter's `normalize.less` sets `[hidden] { display: none; }` but bootstrap.min.css set `[hidden] { display: none !important; }` so we also need the `!important` here to be able to override the default hidden behavior on the sphinx rendered scikit-learn.org. See: https://github.com/scikit-learn/scikit-learn/issues/21755 */display: inline-block !important;position: relative;}#sk-container-id-1 div.sk-text-repr-fallback {display: none;}</style><div id=\"sk-container-id-1\" class=\"sk-top-container\"><div class=\"sk-text-repr-fallback\"><pre>RandomForestClassifier(random_state=1234)</pre><b>In a Jupyter environment, please rerun this cell to show the HTML representation or trust the notebook. <br />On GitHub, the HTML representation is unable to render, please try loading this page with nbviewer.org.</b></div><div class=\"sk-container\" hidden><div class=\"sk-item\"><div class=\"sk-estimator sk-toggleable\"><input class=\"sk-toggleable__control sk-hidden--visually\" id=\"sk-estimator-id-1\" type=\"checkbox\" checked><label for=\"sk-estimator-id-1\" class=\"sk-toggleable__label sk-toggleable__label-arrow\">RandomForestClassifier</label><div class=\"sk-toggleable__content\"><pre>RandomForestClassifier(random_state=1234)</pre></div></div></div></div></div>\n",
    "```\n",
    "\n",
    "And that's it. All the machine learning magic done. `clf` is now a trained model with optimised parameters which we can use to predict new data."
   ]
  },
  {
   "cell_type": "markdown",
   "id": "22a63489",
   "metadata": {},
   "source": [
    "### **Predict Test Data**\n",
    "\n",
    "### Categorical Prediction\n",
    "<p style='text-align: justify;'>\n",
    "We start by creating a number of test data in the same way as we created the training data. Note that the number of test samples is arbitrary. You can create any number of samples. However, you must provide the same number of features (columns) used in the training of the classifier. In our case that is 2.\n",
    "</p>\n"
   ]
  },
  {
   "cell_type": "code",
   "execution_count": null,
   "id": "f2f7ccad",
   "metadata": {},
   "outputs": [],
   "source": [
    "RANDOM_SEED_2 = 123\n",
    "\n",
    "seed(RANDOM_SEED_2)\n",
    "\n",
    "new_samples = 10\n",
    "\n",
    "features = X.shape[1]\n",
    "\n",
    "new_data = uniform(low=low, high=high, size=(10, 2))\n",
    "\n",
    "print('Shape of new data', new_data.shape)\n",
    "print('')\n",
    "print(new_data)"
   ]
  },
  {
   "cell_type": "markdown",
   "id": "3e833015",
   "metadata": {},
   "source": [
    "```{.output}\n",
    "Shape of new data (10, 2)\n",
    "\n",
    "[[69.64691856 28.6139335 ]\n",
    " [22.68514536 55.13147691]\n",
    " [71.94689698 42.31064601]\n",
    " [98.07641984 68.48297386]\n",
    " [48.09319015 39.21175182]\n",
    " [34.31780162 72.90497074]\n",
    " [43.85722447  5.96778966]\n",
    " [39.80442553 73.79954057]\n",
    " [18.24917305 17.54517561]\n",
    " [53.15513738 53.18275871]]\n",
    "```\n",
    "\n",
    "<p style='text-align: justify;'>\n",
    "There are 10 randomly created pairs of numbers in the same range as the training data. They represent 'unlabelled' incoming data which we offer to the trained model.\n",
    "</p>\n",
    "\n",
    "The method `.predict()` helps us to find out what the model claims these data to be:\n"
   ]
  },
  {
   "cell_type": "code",
   "execution_count": null,
   "id": "8083b747",
   "metadata": {},
   "outputs": [],
   "source": [
    "predictions = clf.predict(new_data)\n",
    "\n",
    "print('Predictions: ', predictions)"
   ]
  },
  {
   "cell_type": "markdown",
   "id": "706bc6c3",
   "metadata": {},
   "source": [
    "```{.output}\n",
    "Predictions:  [False False False  True False False False False False  True]\n",
    "```\n",
    "\n",
    "They can also be viewed as zeros and ones:\n"
   ]
  },
  {
   "cell_type": "code",
   "execution_count": null,
   "id": "3528d3d2",
   "metadata": {},
   "outputs": [],
   "source": [
    "predictions.astype(int)"
   ]
  },
  {
   "cell_type": "markdown",
   "id": "1f43b960",
   "metadata": {},
   "source": [
    "```{.output}\n",
    "array([0, 0, 0, 1, 0, 0, 0, 0, 0, 1])\n",
    "```\n",
    "\n",
    "According to the model, data points with indices 3, and 9 are in class `True` (or `1`). \n",
    "\n",
    "<p style='text-align: justify;'>\n",
    "Predicting individual samples is fine, but does not tell us whether the classifier was able to create a good model of the class distinction. To check the training result systematically, we create a state space grid over the state space. This is the same as creating a coordinate system of data points (as in a scatter plot), in our case with values from 0 to 100 in each feature.\n",
    "</p>\n",
    "\n",
    "Here we use a resolution of 100, ie. we create a 100 by 100 grid:\n"
   ]
  },
  {
   "cell_type": "code",
   "execution_count": null,
   "id": "64fdd017",
   "metadata": {},
   "outputs": [],
   "source": [
    "resolution = 100\n",
    "\n",
    "vec_a = linspace(low, high, resolution)\n",
    "vec_b = vec_a\n",
    "\n",
    "grid_a, grid_b = meshgrid(vec_a, vec_b)\n",
    "\n",
    "grid_a_flat = grid_a.ravel()\n",
    "grid_b_flat = grid_b.ravel()\n",
    "\n",
    "XY_statespace = c_[grid_a_flat, grid_b_flat]\n",
    "\n",
    "print(XY_statespace.shape)"
   ]
  },
  {
   "cell_type": "markdown",
   "id": "d6908aaa",
   "metadata": {},
   "source": [
    "```{.output}\n",
    "(10000, 2)\n",
    "```\n",
    "\n",
    "<p style='text-align: justify;'>\n",
    "Now we can offer the grid of the X-Y state space as 'new data' to the classifier and obtain the predictions. We can then plot the grid points and colour them according to the labels assigned by the trained model.\n",
    "</p>\n"
   ]
  },
  {
   "cell_type": "code",
   "execution_count": null,
   "id": "c21d5de0",
   "metadata": {},
   "outputs": [],
   "source": [
    "predictions = clf.predict(XY_statespace)\n",
    "\n",
    "predictions.shape"
   ]
  },
  {
   "cell_type": "markdown",
   "id": "d0a1b014",
   "metadata": {},
   "source": [
    "```{.output}\n",
    "(10000,)\n",
    "```\n",
    "\n",
    "We obtain 10,000 predictions, one for each point on the grid.\n",
    "\n",
    "To compare the data with the original thresholds and the model predictions we can use plots of the state space:\n"
   ]
  },
  {
   "cell_type": "code",
   "execution_count": null,
   "id": "cf6407bf",
   "metadata": {},
   "outputs": [],
   "source": [
    "feature_1, feature_2 = 0, 1\n",
    "\n",
    "fig, ax = subplots(ncols=2, nrows=1, figsize=(10, 5))\n",
    "\n",
    "ax[0].scatter(X[:, feature_1], X[:, feature_2], c=y, s=4, cmap='bwr');\n",
    "ax[1].scatter(XY_statespace[:, feature_1], XY_statespace[:, feature_2], c=predictions, s=1, cmap='bwr');\n",
    "\n",
    "p1, p2 = [threshold, threshold], [100, threshold]\n",
    "p3, p4 = [threshold, 100], [threshold, threshold]\n",
    "\n",
    "ax[0].plot(p1, p2, c='k')\n",
    "ax[0].plot(p3, p4, c='k')\n",
    "\n",
    "ax[0].set_xlabel('Feature 1', fontsize=16)\n",
    "ax[0].set_ylabel('Feature 2', fontsize=16);\n",
    "ax[1].set_xlabel('Feature 1', fontsize=16);\n",
    "\n",
    "show()"
   ]
  },
  {
   "cell_type": "markdown",
   "id": "bff48316",
   "metadata": {},
   "source": [
    "<img src=\"fig/01-classification_intro-rendered-unnamed-chunk-17-5.png\" width=\"960\" style=\"display: block; margin: auto;\" />\n",
    "\n",
    "<p style='text-align: justify;'>\n",
    "Left is a scatter plot of the data points used for training. They are coloured according to their labels. The black lines indicate the threshold boundaries that we introduced to distinguish the two classes. On the right hand side are the predictions for the coordinate grid. Label 0 is blue, label 1 is red.\n",
    "</p>\n",
    "<p style='text-align: justify;'>\n",
    "Based on the training samples (left), a good classification can be achieved with the model (right). But some problems persist. In particular, the boundaries are not sharp.\n",
    "</p>\n",
    "\n",
    "### Probability Prediction\n",
    "<p style='text-align: justify;'>\n",
    "Let us pick a sample near the boundary. We can get its predicted label. In addition, using `.predict_proba()` we can get the probability of this prediction. This reflects the confidence in the prediction. 50% probability means, the prediction is at chance level, i.e. equivalent to a coin toss.\n",
    "</p>"
   ]
  },
  {
   "cell_type": "code",
   "execution_count": null,
   "id": "809ce3bb",
   "metadata": {},
   "outputs": [],
   "source": [
    "pos = 55\n",
    "\n",
    "test_sample = [[pos, pos]]\n",
    "\n",
    "test_sample_label = clf.predict(test_sample)\n",
    "\n",
    "test_sample_proba = clf.predict_proba(test_sample)\n",
    "\n",
    "print('Prediction:', test_sample_label)\n",
    "print(clf.classes_, test_sample_proba)"
   ]
  },
  {
   "cell_type": "markdown",
   "id": "05e74386",
   "metadata": {},
   "source": [
    "```{.output}\n",
    "Prediction: [False]\n",
    "[False  True] [[0.57 0.43]]\n",
    "```\n"
   ]
  },
  {
   "cell_type": "code",
   "execution_count": null,
   "id": "5d2ed6cb",
   "metadata": {},
   "outputs": [],
   "source": [
    "bins = arange(test_sample_proba.shape[1])\n",
    "\n",
    "fig, ax = subplots()\n",
    "\n",
    "ax.bar(bins, test_sample_proba[0,:], color=('b', 'r'))\n",
    "ax.set_ylabel('Probability', fontsize=16)\n",
    "xticks(bins, ('Label 0', 'Label 1'), fontsize=16);\n",
    "\n",
    "show()"
   ]
  },
  {
   "cell_type": "markdown",
   "id": "ef811ddb",
   "metadata": {},
   "source": [
    "<img src=\"fig/01-classification_intro-rendered-unnamed-chunk-19-7.png\" width=\"672\" style=\"display: block; margin: auto;\" />\n",
    "\n",
    "<p style='text-align: justify;'>\n",
    "Even though the sample is from the region that (according to the creation of the data) is in the 'True' region, it is labelled as false. The reason is that there were few or no training data points in that specific region.\n",
    "</p>\n",
    "<p style='text-align: justify;'>\n",
    "Here is a plot of the probability for the state space. White represents False and Black represents True, the values in between are gray coded. Note that the probability values are complementary. We only need the probabilities for one of our classes.\n",
    "</p>\n"
   ]
  },
  {
   "cell_type": "code",
   "execution_count": null,
   "id": "09b83c4e",
   "metadata": {},
   "outputs": [],
   "source": [
    "state_space_proba = clf.predict_proba(XY_statespace)\n",
    "\n",
    "grid_shape = grid_a.shape\n",
    "\n",
    "proba_grid = state_space_proba[:, 1].reshape(grid_shape)\n",
    "\n",
    "contour_levels = linspace(0, 1, 6)\n",
    "\n",
    "\n",
    "fig, ax = subplots(figsize=(6, 5))\n",
    "\n",
    "cax = ax.contourf(grid_a, grid_b, proba_grid, cmap='Greys', levels=contour_levels)\n",
    "fig.colorbar(cax)\n",
    "ax.scatter(test_sample[0][0], test_sample[0][1], c='r', marker='o', s=100)\n",
    "\n",
    "ax.plot(p1, p2, p3, p4, c='r')\n",
    "\n",
    "ax.set_xlabel('Feature 1', fontsize=16)\n",
    "ax.set_ylabel('Feature 2', fontsize=16);\n",
    "\n",
    "show()"
   ]
  },
  {
   "cell_type": "markdown",
   "id": "c0ee27fc",
   "metadata": {},
   "source": [
    "<img src=\"fig/01-classification_intro-rendered-unnamed-chunk-20-9.png\" width=\"576\" style=\"display: block; margin: auto;\" />\n",
    "\n",
    "The single red dot marks the individual data point we used to illustrate the prediction probability above.\n",
    "\n",
    "### Feature Importances\n",
    "<p style='text-align: justify;'>\n",
    "We can check the contribution of each feature for the success of the classification. The feature importance is given as the fraction contribution of each feature to the prediction.\n",
    "</p>\n"
   ]
  },
  {
   "cell_type": "code",
   "execution_count": null,
   "id": "dd24024a",
   "metadata": {},
   "outputs": [],
   "source": [
    "importances = clf.feature_importances_\n",
    "\n",
    "print('Relative importance:')\n",
    "\n",
    "template = 'Feature 1: {:.1f}%; Feature 2: {:.1f}%' \n",
    "\n",
    "print(template.format(importances[0]*100, importances[1]*100))\n",
    "\n",
    "bins = arange(importances.shape[0])\n",
    "\n",
    "fig, ax = subplots()\n",
    "\n",
    "ax.bar(bins, importances, color=('g', 'm'));\n",
    "ax.set_ylabel('Feature Importance', fontsize=16)\n",
    "\n",
    "xticks(bins, ('Feature 1', 'Feature 2'), fontsize=16);\n",
    "\n",
    "show()"
   ]
  },
  {
   "cell_type": "markdown",
   "id": "560976cc",
   "metadata": {},
   "source": [
    "```{.output}\n",
    "Relative importance:\n",
    "Feature 1: 61.6%; Feature 2: 38.4%\n",
    "```\n",
    "\n",
    "<img src=\"fig/01-classification_intro-rendered-unnamed-chunk-21-11.png\" width=\"672\" style=\"display: block; margin: auto;\" />"
   ]
  },
  {
   "cell_type": "markdown",
   "id": "20916f61",
   "metadata": {},
   "source": [
    "In this case, the predictions are based on a 61% contribution from feature 1 and a 38% contribution from feature 2.\n",
    "\n",
    "## Application\n",
    "\n",
    "Now we pick the 'Height' and 'Weight' columns from the patients data to predict the gender labels. We use a split of 4/5 of the data for training and 1/5 for testing.\n"
   ]
  },
  {
   "cell_type": "code",
   "execution_count": null,
   "id": "7d628543",
   "metadata": {},
   "outputs": [],
   "source": [
    "df = read_csv('data/patients_data.csv') \n",
    "\n",
    "print(df.shape)\n",
    "\n",
    "# Convert pounds to kg and inches to cm:\n",
    "df['Weight'] = 0.454*df['Weight']\n",
    "df['Height'] = 2.540*df['Height']\n",
    "\n",
    "df.head(10)"
   ]
  },
  {
   "cell_type": "markdown",
   "id": "2551c0fe",
   "metadata": {},
   "source": [
    "```{.output}\n",
    "(100, 7)\n",
    "   Age  Height  Weight  Systolic  Diastolic  Smoker  Gender\n",
    "0   38  180.34  79.904       124         93       1    Male\n",
    "1   43  175.26  74.002       109         77       0    Male\n",
    "2   38  162.56  59.474       125         83       0  Female\n",
    "3   40  170.18  60.382       117         75       0  Female\n",
    "4   49  162.56  54.026       122         80       0  Female\n",
    "5   46  172.72  64.468       121         70       0  Female\n",
    "6   33  162.56  64.468       130         88       1  Female\n",
    "7   40  172.72  81.720       115         82       0    Male\n",
    "8   28  172.72  83.082       115         78       0    Male\n",
    "9   31  167.64  59.928       118         86       0  Female\n",
    "```"
   ]
  },
  {
   "cell_type": "markdown",
   "id": "dff13caa",
   "metadata": {},
   "source": [
    "### **Prepare training data and labels**\n"
   ]
  },
  {
   "cell_type": "code",
   "execution_count": null,
   "id": "51cc4d28",
   "metadata": {},
   "outputs": [],
   "source": [
    "# Extract data as numpy array\n",
    "df_np = df.to_numpy()\n",
    "\n",
    "# Pick a fraction of height and weight data as training data\n",
    "samples = 80\n",
    "\n",
    "X = df_np[:samples, [1, 2]]\n",
    "\n",
    "print(X.shape)"
   ]
  },
  {
   "cell_type": "markdown",
   "id": "d92b16f6",
   "metadata": {},
   "source": [
    "```{.output}\n",
    "(80, 2)\n",
    "```\n",
    "\n",
    "For the labels of the training data we convert the 'Male' and 'Female' strings to categorical values. \n"
   ]
  },
  {
   "cell_type": "code",
   "execution_count": null,
   "id": "4aad063d",
   "metadata": {},
   "outputs": [],
   "source": [
    "gender_boolean = df['Gender'] == 'Female'\n",
    "\n",
    "y = gender_boolean[:80]\n",
    "\n",
    "# printed as 0 and 1:\n",
    "\n",
    "y.astype('int')"
   ]
  },
  {
   "cell_type": "markdown",
   "id": "3bf09daa",
   "metadata": {},
   "source": [
    "```{.output}\n",
    "0     0\n",
    "1     0\n",
    "2     1\n",
    "3     1\n",
    "4     1\n",
    "     ..\n",
    "75    0\n",
    "76    1\n",
    "77    0\n",
    "78    0\n",
    "79    1\n",
    "Name: Gender, Length: 80, dtype: int64\n",
    "```\n",
    "\n",
    "### **Train classifier and predict**\n",
    "\n"
   ]
  },
  {
   "cell_type": "code",
   "execution_count": null,
   "id": "906ac719",
   "metadata": {},
   "outputs": [],
   "source": [
    "from sklearn.ensemble import RandomForestClassifier\n",
    "\n",
    "seed(RANDOM_SEED)\n",
    "\n",
    "clf = RandomForestClassifier(random_state=RANDOM_SEED)\n",
    "\n",
    "clf.fit(X, y)"
   ]
  },
  {
   "cell_type": "markdown",
   "id": "758117ed",
   "metadata": {},
   "source": [
    "```{=html}\n",
    "<style>#sk-container-id-2 {color: black;background-color: white;}#sk-container-id-2 pre{padding: 0;}#sk-container-id-2 div.sk-toggleable {background-color: white;}#sk-container-id-2 label.sk-toggleable__label {cursor: pointer;display: block;width: 100%;margin-bottom: 0;padding: 0.3em;box-sizing: border-box;text-align: center;}#sk-container-id-2 label.sk-toggleable__label-arrow:before {content: \"▸\";float: left;margin-right: 0.25em;color: #696969;}#sk-container-id-2 label.sk-toggleable__label-arrow:hover:before {color: black;}#sk-container-id-2 div.sk-estimator:hover label.sk-toggleable__label-arrow:before {color: black;}#sk-container-id-2 div.sk-toggleable__content {max-height: 0;max-width: 0;overflow: hidden;text-align: left;background-color: #f0f8ff;}#sk-container-id-2 div.sk-toggleable__content pre {margin: 0.2em;color: black;border-radius: 0.25em;background-color: #f0f8ff;}#sk-container-id-2 input.sk-toggleable__control:checked~div.sk-toggleable__content {max-height: 200px;max-width: 100%;overflow: auto;}#sk-container-id-2 input.sk-toggleable__control:checked~label.sk-toggleable__label-arrow:before {content: \"▾\";}#sk-container-id-2 div.sk-estimator input.sk-toggleable__control:checked~label.sk-toggleable__label {background-color: #d4ebff;}#sk-container-id-2 div.sk-label input.sk-toggleable__control:checked~label.sk-toggleable__label {background-color: #d4ebff;}#sk-container-id-2 input.sk-hidden--visually {border: 0;clip: rect(1px 1px 1px 1px);clip: rect(1px, 1px, 1px, 1px);height: 1px;margin: -1px;overflow: hidden;padding: 0;position: absolute;width: 1px;}#sk-container-id-2 div.sk-estimator {font-family: monospace;background-color: #f0f8ff;border: 1px dotted black;border-radius: 0.25em;box-sizing: border-box;margin-bottom: 0.5em;}#sk-container-id-2 div.sk-estimator:hover {background-color: #d4ebff;}#sk-container-id-2 div.sk-parallel-item::after {content: \"\";width: 100%;border-bottom: 1px solid gray;flex-grow: 1;}#sk-container-id-2 div.sk-label:hover label.sk-toggleable__label {background-color: #d4ebff;}#sk-container-id-2 div.sk-serial::before {content: \"\";position: absolute;border-left: 1px solid gray;box-sizing: border-box;top: 0;bottom: 0;left: 50%;z-index: 0;}#sk-container-id-2 div.sk-serial {display: flex;flex-direction: column;align-items: center;background-color: white;padding-right: 0.2em;padding-left: 0.2em;position: relative;}#sk-container-id-2 div.sk-item {position: relative;z-index: 1;}#sk-container-id-2 div.sk-parallel {display: flex;align-items: stretch;justify-content: center;background-color: white;position: relative;}#sk-container-id-2 div.sk-item::before, #sk-container-id-2 div.sk-parallel-item::before {content: \"\";position: absolute;border-left: 1px solid gray;box-sizing: border-box;top: 0;bottom: 0;left: 50%;z-index: -1;}#sk-container-id-2 div.sk-parallel-item {display: flex;flex-direction: column;z-index: 1;position: relative;background-color: white;}#sk-container-id-2 div.sk-parallel-item:first-child::after {align-self: flex-end;width: 50%;}#sk-container-id-2 div.sk-parallel-item:last-child::after {align-self: flex-start;width: 50%;}#sk-container-id-2 div.sk-parallel-item:only-child::after {width: 0;}#sk-container-id-2 div.sk-dashed-wrapped {border: 1px dashed gray;margin: 0 0.4em 0.5em 0.4em;box-sizing: border-box;padding-bottom: 0.4em;background-color: white;}#sk-container-id-2 div.sk-label label {font-family: monospace;font-weight: bold;display: inline-block;line-height: 1.2em;}#sk-container-id-2 div.sk-label-container {text-align: center;}#sk-container-id-2 div.sk-container {/* jupyter's `normalize.less` sets `[hidden] { display: none; }` but bootstrap.min.css set `[hidden] { display: none !important; }` so we also need the `!important` here to be able to override the default hidden behavior on the sphinx rendered scikit-learn.org. See: https://github.com/scikit-learn/scikit-learn/issues/21755 */display: inline-block !important;position: relative;}#sk-container-id-2 div.sk-text-repr-fallback {display: none;}</style><div id=\"sk-container-id-2\" class=\"sk-top-container\"><div class=\"sk-text-repr-fallback\"><pre>RandomForestClassifier(random_state=1234)</pre><b>In a Jupyter environment, please rerun this cell to show the HTML representation or trust the notebook. <br />On GitHub, the HTML representation is unable to render, please try loading this page with nbviewer.org.</b></div><div class=\"sk-container\" hidden><div class=\"sk-item\"><div class=\"sk-estimator sk-toggleable\"><input class=\"sk-toggleable__control sk-hidden--visually\" id=\"sk-estimator-id-2\" type=\"checkbox\" checked><label for=\"sk-estimator-id-2\" class=\"sk-toggleable__label sk-toggleable__label-arrow\">RandomForestClassifier</label><div class=\"sk-toggleable__content\"><pre>RandomForestClassifier(random_state=1234)</pre></div></div></div></div></div>\n",
    "```\n",
    "\n",
    "We now take the remaining fifth of the data to predict.\n"
   ]
  },
  {
   "cell_type": "code",
   "execution_count": null,
   "id": "8928c44f",
   "metadata": {},
   "outputs": [],
   "source": [
    "X_test = df.loc[80:, ['Height', 'Weight']]\n",
    "\n",
    "X_test = X_test.values\n",
    "\n",
    "predict_test = clf.predict(X_test)\n",
    "\n",
    "probab_test = clf.predict_proba(X_test)\n",
    "\n",
    "print('Predictions: ', predict_test, '\\n', 'Probabilities: ', '\\n',  probab_test)"
   ]
  },
  {
   "cell_type": "markdown",
   "id": "d404d2aa",
   "metadata": {},
   "source": [
    "```{.output}\n",
    "Predictions:  [False False False  True  True False  True  True  True  True False False\n",
    "  True False  True False False False False False] \n",
    " Probabilities:  \n",
    " [[1.   0.  ]\n",
    " [1.   0.  ]\n",
    " [1.   0.  ]\n",
    " [0.   1.  ]\n",
    " [0.   1.  ]\n",
    " [1.   0.  ]\n",
    " [0.   1.  ]\n",
    " [0.   1.  ]\n",
    " [0.   1.  ]\n",
    " [0.   1.  ]\n",
    " [1.   0.  ]\n",
    " [1.   0.  ]\n",
    " [0.02 0.98]\n",
    " [1.   0.  ]\n",
    " [0.   1.  ]\n",
    " [1.   0.  ]\n",
    " [1.   0.  ]\n",
    " [1.   0.  ]\n",
    " [1.   0.  ]\n",
    " [0.97 0.03]]\n",
    "```\n",
    "\n",
    "As in the example above, we create a state space grid to visualise the outcome for the two features. \n"
   ]
  },
  {
   "cell_type": "code",
   "execution_count": null,
   "id": "4623e564",
   "metadata": {},
   "outputs": [],
   "source": [
    "X1_min, X1_max = min(X[:, 0]), max(X[:, 0])\n",
    "X2_min, X2_max = min(X[:, 1]), max(X[:, 1])\n",
    "\n",
    "resolution = 100\n",
    "\n",
    "vec_a = linspace(X1_min, X1_max, resolution)\n",
    "vec_b = linspace(X2_min, X2_max, resolution)\n",
    "\n",
    "grid_a, grid_b = meshgrid(vec_a, vec_b)\n",
    "\n",
    "\n",
    "grid_a_flat = grid_a.ravel()\n",
    "grid_b_flat = grid_b.ravel()\n",
    "\n",
    "X_statespace = c_[grid_a_flat, grid_b_flat]"
   ]
  },
  {
   "cell_type": "markdown",
   "id": "382d5e9b",
   "metadata": {},
   "source": [
    "We can now obtain the categorical and probability predictions from the trained classifier for all points of the grid.\n",
    "\n"
   ]
  },
  {
   "cell_type": "code",
   "execution_count": null,
   "id": "04ba379a",
   "metadata": {},
   "outputs": [],
   "source": [
    "predict = clf.predict(X_statespace)\n",
    "probabs = clf.predict_proba(X_statespace)"
   ]
  },
  {
   "cell_type": "markdown",
   "id": "57d6e557",
   "metadata": {},
   "source": [
    "Here is the plot of the state space and the predicted probabilities:\n"
   ]
  },
  {
   "cell_type": "code",
   "execution_count": null,
   "id": "9f541e02",
   "metadata": {},
   "outputs": [],
   "source": [
    "feature_1, feature_2 = 0, 1\n",
    "\n",
    "fig, ax = subplots(ncols=3, nrows=1, figsize=(15, 5))\n",
    "\n",
    "ax[0].scatter(X[:, feature_1], X[:, feature_2], c=y, s=40, cmap='bwr');\n",
    "ax[0].set_xlim(X1_min, X1_max);\n",
    "ax[0].set_ylim(X2_min, X2_max);\n",
    "ax[0].set_xlabel('Feature 1', fontsize=16);\n",
    "ax[0].set_ylabel('Feature 2', fontsize=16);\n",
    "\n",
    "cax1 = ax[1].scatter(X_statespace[:, feature_1], X_statespace[:, feature_2], c=predict, s=1, cmap='bwr');\n",
    "ax[1].scatter(X_test[:, feature_1], X_test[:, feature_2], c=predict_test, s=40, cmap='Greys');\n",
    "ax[1].set_xlabel('Feature 1', fontsize=16);\n",
    "ax[1].set_xlim(X1_min, X1_max);\n",
    "ax[1].set_ylim(X2_min, X2_max);\n",
    "fig.colorbar(cax1, ax=ax[1]);\n",
    "\n",
    "grid_shape = grid_a.shape\n",
    "\n",
    "probab_grid = probabs[:, 1].reshape(grid_shape)\n",
    "\n",
    "# Subject with 170cm and 70 kg\n",
    "pos1, pos2 = 170, 70\n",
    "\n",
    "test_sample = [pos1, pos2]\n",
    "\n",
    "contour_levels = linspace(0, 1, 10)\n",
    "\n",
    "cax2 = ax[2].contourf(grid_a, grid_b, probab_grid, cmap='Greys', levels=contour_levels);\n",
    "fig.colorbar(cax2, ax=ax[2]);\n",
    "\n",
    "ax[2].scatter(test_sample[0], test_sample[1], c='r', marker='o', s=100);\n",
    "ax[2].set_xlabel('Feature 1', fontsize=16);\n",
    "ax[2].set_xlim(X1_min, X1_max);\n",
    "ax[2].set_ylim(X2_min, X2_max);\n",
    "\n",
    "show()"
   ]
  },
  {
   "cell_type": "markdown",
   "id": "14c69349",
   "metadata": {},
   "source": [
    "<img src=\"fig/01-classification_intro-rendered-unnamed-chunk-29-13.png\" width=\"1440\" style=\"display: block; margin: auto;\" />\n",
    "\n",
    "<p style='text-align: justify;'>\n",
    "The left panel shows the original data with labels as colours, i.e. the training data. Central panel shows the classified state space with the test samples as black dots in predicted category 'Female' and white dots in predicted category 'Male'. Right panel shows the state space with prediction probabilities with black for 'Female' and white for 'Male'. The red dot represents the simulated subject with 170cm and 70 kg (see below).\n",
    "</p>\n",
    "\n",
    "### **Probability of a single observation**\n",
    "<p style='text-align: justify;'>\n",
    "Let us pick that subject and obtain its predicted label and probability. Note the use of double brackets to create a sample that is a two-dimensional array.\n",
    "</p>\n"
   ]
  },
  {
   "cell_type": "code",
   "execution_count": null,
   "id": "fe277261",
   "metadata": {},
   "outputs": [],
   "source": [
    "test_sample = [[pos1, pos2]]\n",
    "\n",
    "test_predict = clf.predict(test_sample)\n",
    "test_proba   = clf.predict_proba(test_sample)\n",
    "\n",
    "print('Predicted class:', test_predict, 'Female')\n",
    "print('Probability:', test_proba[0, 0])\n",
    "print('')\n",
    "\n",
    "bins = arange(test_proba.shape[1])\n",
    "\n",
    "fig, ax = subplots()\n",
    "\n",
    "ax.bar(bins, test_proba[0,:], color=('r', 'b'));\n",
    "xticks(bins, ('Female', 'Male'), fontsize=16);\n",
    "ax.set_ylabel('Probability', fontsize=16);\n",
    "\n",
    "show()"
   ]
  },
  {
   "cell_type": "markdown",
   "id": "4a40ca7e",
   "metadata": {},
   "source": [
    "```{.output}\n",
    "Predicted class: [False] Female\n",
    "Probability: 0.66\n",
    "```\n",
    "\n",
    "<img src=\"fig/01-classification_intro-rendered-unnamed-chunk-30-15.png\" width=\"672\" style=\"display: block; margin: auto;\" />\n",
    "\n",
    "<p style='text-align: justify;'>\n",
    "This shows that the predicted label is female but the probability is less than 70 % and, e.g. if a clinical decision was to be taken based on the outcome of the classification, it might suggest looking for additional evidence before the decision is made.\n",
    "</p>\n",
    "\n",
    "### **Feature Importances**\n"
   ]
  },
  {
   "cell_type": "code",
   "execution_count": null,
   "id": "2aaad3ba",
   "metadata": {},
   "outputs": [],
   "source": [
    "importances = clf.feature_importances_\n",
    "\n",
    "print('Features importances:')\n",
    "template = 'Feature 1: {:.1f}%; Feature 2: {:.1f}%' \n",
    "print(template.format(importances[0]*100, importances[1]*100))\n",
    "print('')\n",
    "\n",
    "bins = arange(importances.shape[0])\n",
    "\n",
    "fig, ax = subplots()\n",
    "\n",
    "ax.bar(bins, importances, color=('m', 'g'));\n",
    "xticks(bins, ('Feature 1', 'Feature 2'), fontsize=16);\n",
    "ax.set_ylabel('Feature Importance', fontsize=16);\n",
    "\n",
    "show()"
   ]
  },
  {
   "cell_type": "markdown",
   "id": "6de100fa",
   "metadata": {},
   "source": [
    "```{.output}\n",
    "Features importances:\n",
    "Feature 1: 31.7%; Feature 2: 68.3%\n",
    "```\n",
    "\n",
    "<img src=\"fig/01-classification_intro-rendered-unnamed-chunk-31-17.png\" width=\"672\" style=\"display: block; margin: auto;\" />\n",
    "\n",
    "Feature Height contributes about one third and feature Weight about two thirds to the decisions.\n",
    "<p style='text-align: justify;'>\n",
    "Feature importances can be used in data sets with many features, e.g. to reduce the number of features used for classification. Some features might not contribute to the classification and could therefore be left out of the process. \n",
    "</p> \n",
    "\n",
    "In the next lesson, we are going to test multiple classifiers and quantify their performance to improve the outcome of the classification. \n",
    "\n",
    "## Exercises\n",
    "\n",
    "#### End of chapter Exercises\n",
    "\n",
    "<p style='text-align: justify;'>\n",
    "Repeat the training and prediction workflow as above for two other features in the data, namely: Systole and Diastole values. Use 70 training and 30 testing samples where the labels are assigned according to the condition: 0 if 'non-smoker', 1 if 'smoker'.\n",
    "</p>\n",
    "\n",
    "Use the above code to:\n",
    "\n",
    "1. Train the random forest classifier.\n",
    "\n",
    "2. Create state space plots with scatter plot, categorical colouring, and probability contour plot.\n",
    "\n",
    "3. Compare the predicted and actual labels to check how well the trained model performed: how many of the 30 test data points are correctly predicted?\n",
    "\n",
    "4. Plot the feature importance to check how much the systolic and diastolic values contributed to the predictions. \n"
   ]
  },
  {
   "cell_type": "markdown",
   "id": "00679958",
   "metadata": {},
   "source": [
    "## Please check these solutions only after submitting the assignments.\n",
    "\n",
    "### Q1"
   ]
  },
  {
   "cell_type": "code",
   "execution_count": null,
   "id": "f30bf5c2",
   "metadata": {
    "lines_to_next_cell": 2
   },
   "outputs": [],
   "source": [
    "from pandas import read_csv\n",
    "\n",
    "from numpy import arange, asarray, linspace, c_, meshgrid, zeros, ones\n",
    "from numpy.random import uniform, seed\n",
    "\n",
    "from matplotlib.pyplot import subplots, scatter, xlabel, ylabel, xticks\n",
    "\n",
    "from sklearn.ensemble import RandomForestClassifier"
   ]
  },
  {
   "cell_type": "code",
   "execution_count": null,
   "id": "9dd06178",
   "metadata": {},
   "outputs": [],
   "source": [
    "df = read_csv(\"data/patients_data.csv\") \n",
    "\n",
    "train_samples = 70\n",
    "\n",
    "df_np = df.to_numpy()\n",
    "\n",
    "X = df_np[:train_samples, [3, 4]]\n",
    "\n",
    "label_boolean = df['Smoker'] == 1\n",
    "\n",
    "y = label_boolean[:train_samples]\n",
    "\n",
    "print(X.shape, y.shape)"
   ]
  },
  {
   "cell_type": "markdown",
   "id": "e493ae34",
   "metadata": {},
   "source": [
    "```{.output}\n",
    "(70, 2) (70,)\n",
    "```\n"
   ]
  },
  {
   "cell_type": "code",
   "execution_count": null,
   "id": "17b8c4fe",
   "metadata": {},
   "outputs": [],
   "source": [
    "RANDOM_SEED  = 123\n",
    "\n",
    "clf = RandomForestClassifier(random_state=RANDOM_SEED)\n",
    "\n",
    "clf.fit(X, y)\n",
    "\n",
    "X_new = df_np[train_samples:, [3, 4]]\n",
    "\n",
    "predict_new = clf.predict(X_new)\n",
    "\n",
    "probab_new = clf.predict_proba(X_new)\n",
    "\n",
    "print('Predictions:   ', predict_new)\n",
    "print('')\n",
    "print('Probabilities: ', probab_new)\n",
    "print('')"
   ]
  },
  {
   "cell_type": "markdown",
   "id": "88bf9939",
   "metadata": {},
   "source": [
    "```{=html}\n",
    "<style>#sk-container-id-3 {color: black;background-color: white;}#sk-container-id-3 pre{padding: 0;}#sk-container-id-3 div.sk-toggleable {background-color: white;}#sk-container-id-3 label.sk-toggleable__label {cursor: pointer;display: block;width: 100%;margin-bottom: 0;padding: 0.3em;box-sizing: border-box;text-align: center;}#sk-container-id-3 label.sk-toggleable__label-arrow:before {content: \"▸\";float: left;margin-right: 0.25em;color: #696969;}#sk-container-id-3 label.sk-toggleable__label-arrow:hover:before {color: black;}#sk-container-id-3 div.sk-estimator:hover label.sk-toggleable__label-arrow:before {color: black;}#sk-container-id-3 div.sk-toggleable__content {max-height: 0;max-width: 0;overflow: hidden;text-align: left;background-color: #f0f8ff;}#sk-container-id-3 div.sk-toggleable__content pre {margin: 0.2em;color: black;border-radius: 0.25em;background-color: #f0f8ff;}#sk-container-id-3 input.sk-toggleable__control:checked~div.sk-toggleable__content {max-height: 200px;max-width: 100%;overflow: auto;}#sk-container-id-3 input.sk-toggleable__control:checked~label.sk-toggleable__label-arrow:before {content: \"▾\";}#sk-container-id-3 div.sk-estimator input.sk-toggleable__control:checked~label.sk-toggleable__label {background-color: #d4ebff;}#sk-container-id-3 div.sk-label input.sk-toggleable__control:checked~label.sk-toggleable__label {background-color: #d4ebff;}#sk-container-id-3 input.sk-hidden--visually {border: 0;clip: rect(1px 1px 1px 1px);clip: rect(1px, 1px, 1px, 1px);height: 1px;margin: -1px;overflow: hidden;padding: 0;position: absolute;width: 1px;}#sk-container-id-3 div.sk-estimator {font-family: monospace;background-color: #f0f8ff;border: 1px dotted black;border-radius: 0.25em;box-sizing: border-box;margin-bottom: 0.5em;}#sk-container-id-3 div.sk-estimator:hover {background-color: #d4ebff;}#sk-container-id-3 div.sk-parallel-item::after {content: \"\";width: 100%;border-bottom: 1px solid gray;flex-grow: 1;}#sk-container-id-3 div.sk-label:hover label.sk-toggleable__label {background-color: #d4ebff;}#sk-container-id-3 div.sk-serial::before {content: \"\";position: absolute;border-left: 1px solid gray;box-sizing: border-box;top: 0;bottom: 0;left: 50%;z-index: 0;}#sk-container-id-3 div.sk-serial {display: flex;flex-direction: column;align-items: center;background-color: white;padding-right: 0.2em;padding-left: 0.2em;position: relative;}#sk-container-id-3 div.sk-item {position: relative;z-index: 1;}#sk-container-id-3 div.sk-parallel {display: flex;align-items: stretch;justify-content: center;background-color: white;position: relative;}#sk-container-id-3 div.sk-item::before, #sk-container-id-3 div.sk-parallel-item::before {content: \"\";position: absolute;border-left: 1px solid gray;box-sizing: border-box;top: 0;bottom: 0;left: 50%;z-index: -1;}#sk-container-id-3 div.sk-parallel-item {display: flex;flex-direction: column;z-index: 1;position: relative;background-color: white;}#sk-container-id-3 div.sk-parallel-item:first-child::after {align-self: flex-end;width: 50%;}#sk-container-id-3 div.sk-parallel-item:last-child::after {align-self: flex-start;width: 50%;}#sk-container-id-3 div.sk-parallel-item:only-child::after {width: 0;}#sk-container-id-3 div.sk-dashed-wrapped {border: 1px dashed gray;margin: 0 0.4em 0.5em 0.4em;box-sizing: border-box;padding-bottom: 0.4em;background-color: white;}#sk-container-id-3 div.sk-label label {font-family: monospace;font-weight: bold;display: inline-block;line-height: 1.2em;}#sk-container-id-3 div.sk-label-container {text-align: center;}#sk-container-id-3 div.sk-container {/* jupyter's `normalize.less` sets `[hidden] { display: none; }` but bootstrap.min.css set `[hidden] { display: none !important; }` so we also need the `!important` here to be able to override the default hidden behavior on the sphinx rendered scikit-learn.org. See: https://github.com/scikit-learn/scikit-learn/issues/21755 */display: inline-block !important;position: relative;}#sk-container-id-3 div.sk-text-repr-fallback {display: none;}</style><div id=\"sk-container-id-3\" class=\"sk-top-container\"><div class=\"sk-text-repr-fallback\"><pre>RandomForestClassifier(random_state=123)</pre><b>In a Jupyter environment, please rerun this cell to show the HTML representation or trust the notebook. <br />On GitHub, the HTML representation is unable to render, please try loading this page with nbviewer.org.</b></div><div class=\"sk-container\" hidden><div class=\"sk-item\"><div class=\"sk-estimator sk-toggleable\"><input class=\"sk-toggleable__control sk-hidden--visually\" id=\"sk-estimator-id-3\" type=\"checkbox\" checked><label for=\"sk-estimator-id-3\" class=\"sk-toggleable__label sk-toggleable__label-arrow\">RandomForestClassifier</label><div class=\"sk-toggleable__content\"><pre>RandomForestClassifier(random_state=123)</pre></div></div></div></div></div>\n",
    "```\n",
    "\n",
    "```{.output}\n",
    "Predictions:    [False False False False False False False False False False False False\n",
    "  True  True False  True  True  True False False  True False  True False\n",
    " False  True  True False  True False]\n",
    "\n",
    "Probabilities:  [[0.98333333 0.01666667]\n",
    " [0.7        0.3       ]\n",
    " [1.         0.        ]\n",
    " [0.93       0.07      ]\n",
    " [0.92       0.08      ]\n",
    " [0.675      0.325     ]\n",
    " [1.         0.        ]\n",
    " [0.93       0.07      ]\n",
    " [1.         0.        ]\n",
    " [1.         0.        ]\n",
    " [1.         0.        ]\n",
    " [0.9525     0.0475    ]\n",
    " [0.08       0.92      ]\n",
    " [0.46       0.54      ]\n",
    " [1.         0.        ]\n",
    " [0.14       0.86      ]\n",
    " [0.01       0.99      ]\n",
    " [0.         1.        ]\n",
    " [0.89       0.11      ]\n",
    " [1.         0.        ]\n",
    " [0.         1.        ]\n",
    " [0.715      0.285     ]\n",
    " [0.         1.        ]\n",
    " [0.60016667 0.39983333]\n",
    " [0.53666667 0.46333333]\n",
    " [0.         1.        ]\n",
    " [0.11       0.89      ]\n",
    " [1.         0.        ]\n",
    " [0.         1.        ]\n",
    " [1.         0.        ]]\n",
    "```\n",
    "\n",
    "### Q2"
   ]
  },
  {
   "cell_type": "code",
   "execution_count": null,
   "id": "dc85d521",
   "metadata": {},
   "outputs": [],
   "source": [
    "X1_min, X1_max = min(X[:, 0]), max(X[:, 0])\n",
    "X2_min, X2_max = min(X[:, 1]), max(X[:, 1])\n",
    "\n",
    "resolution = 100\n",
    "\n",
    "vec_a = linspace(X1_min, X1_max, resolution)\n",
    "vec_b = linspace(X2_min, X2_max, resolution)\n",
    "\n",
    "grid_a, grid_b = meshgrid(vec_a, vec_b)\n",
    "\n",
    "grid_a_flat = grid_a.ravel()\n",
    "grid_b_flat = grid_b.ravel()\n",
    "\n",
    "X_statespace = c_[grid_a_flat, grid_b_flat]\n",
    "\n",
    "predict = clf.predict(X_statespace)\n",
    "probabs = clf.predict_proba(X_statespace)\n",
    "\n",
    "\n",
    "feature_1, feature_2 = 0, 1\n",
    "\n",
    "fig, ax = subplots(ncols=3, nrows=1, figsize=(15, 5))\n",
    "\n",
    "ax[0].scatter(X[:, feature_1], X[:, feature_2], c=y, s=40, cmap='bwr');\n",
    "ax[0].set_xlim(X1_min, X1_max)\n",
    "ax[0].set_ylim(X2_min, X2_max)\n",
    "ax[0].set_xlabel('Diastole', fontsize=16)\n",
    "ax[0].set_ylabel('Systole', fontsize=16);\n",
    "\n",
    "cax1 = ax[1].scatter(X_statespace[:, feature_1], X_statespace[:, feature_2], c=predict, s=1, cmap='bwr');\n",
    "ax[1].scatter(X_new[:, feature_1], X_new[:, feature_2], c=predict_new, s=40, cmap='Greys');\n",
    "ax[1].set_xlabel('Diastole', fontsize=16);\n",
    "ax[1].set_xlim(X1_min, X1_max)\n",
    "ax[1].set_ylim(X2_min, X2_max)\n",
    "fig.colorbar(cax1, ax=ax[1]);\n",
    "\n",
    "grid_shape = grid_a.shape\n",
    "\n",
    "probab_grid = probabs[:, 1].reshape(grid_shape)\n",
    "\n",
    "# Subject with systole 130 and diastole 85\n",
    "\n",
    "sys, dia = 130, 85\n",
    "\n",
    "test_sample = [sys, dia]\n",
    "\n",
    "contour_levels = linspace(0, 1, 10)\n",
    "\n",
    "cax2 = ax[2].contourf(grid_a, grid_b, probab_grid, cmap='Greys', levels=contour_levels);\n",
    "fig.colorbar(cax2, ax=ax[2]);\n",
    "\n",
    "ax[2].scatter(test_sample[0], test_sample[1], c='r', marker='o', s=100)\n",
    "ax[2].set_xlabel('Diastole', fontsize=16)\n",
    "ax[2].set_xlim(X1_min, X1_max)\n",
    "ax[2].set_ylim(X2_min, X2_max);\n",
    "\n",
    "fig.tight_layout()\n",
    "\n",
    "show()"
   ]
  },
  {
   "cell_type": "markdown",
   "id": "56dbbaa3",
   "metadata": {},
   "source": [
    "```{.output}\n",
    "(109.0, 138.0)\n",
    "(68.0, 96.0)\n",
    "(109.0, 138.0)\n",
    "(68.0, 96.0)\n",
    "(109.0, 138.0)\n",
    "```\n",
    "\n",
    "<img src=\"fig/01-classification_intro-rendered-unnamed-chunk-35-19.png\" width=\"1440\" style=\"display: block; margin: auto;\" />\n",
    "\n",
    "We can see how a single outlier (at [123, 78], left panel) can lead to fragmentation of the label predictions (red island in the blue section, middle panel).\n",
    "\n",
    "### Q3\n"
   ]
  },
  {
   "cell_type": "code",
   "execution_count": null,
   "id": "7f8a880d",
   "metadata": {},
   "outputs": [],
   "source": [
    "test_sample = [[sys, dia]]\n",
    "\n",
    "proba = clf.predict_proba(test_sample)\n",
    "\n",
    "print(clf.classes_, proba)\n",
    "\n",
    "bins = arange(proba.shape[1])\n",
    "\n",
    "fig, ax = subplots()\n",
    "\n",
    "ax.bar(bins, proba[0,:], color=('r', 'b'));\n",
    "xticks(bins, ('Non-smoker', 'Smoker'), fontsize=16);\n",
    "\n",
    "show()"
   ]
  },
  {
   "cell_type": "markdown",
   "id": "64686494",
   "metadata": {},
   "source": [
    "```{.output}\n",
    "[False  True] [[0.48 0.52]]\n",
    "```\n",
    "\n",
    "<img src=\"fig/01-classification_intro-rendered-unnamed-chunk-36-21.png\" width=\"672\" style=\"display: block; margin: auto;\" />\n",
    "\n",
    "While there is a decision for the label 'Smoker', the (simulated) subject is essentially classified at chance level. \n",
    "\n",
    "### Q4\n"
   ]
  },
  {
   "cell_type": "code",
   "execution_count": null,
   "id": "faf8f3da",
   "metadata": {},
   "outputs": [],
   "source": [
    "importances = clf.feature_importances_\n",
    "\n",
    "print('Features importances:')\n",
    "\n",
    "template = 'Feature 1: {:.1f}%; Feature 2: {:.1f}%' \n",
    "\n",
    "print(template.format(importances[0]*100, importances[1]*100))\n",
    "\n",
    "bins = arange(importances.shape[0])\n",
    "\n",
    "fig, ax = subplots()\n",
    "\n",
    "ax.bar(bins, importances, color=('m', 'g'));\n",
    "xticks(bins, ('Systolic', 'Diastolic'), fontsize=16);\n",
    "\n",
    "show()"
   ]
  },
  {
   "cell_type": "markdown",
   "id": "1dbe37b0",
   "metadata": {},
   "source": [
    "```{.output}\n",
    "Features importances:\n",
    "Feature 1: 57.3%; Feature 2: 42.7%\n",
    "```\n",
    "\n",
    "<img src=\"fig/01-classification_intro-rendered-unnamed-chunk-37-23.png\" width=\"672\" style=\"display: block; margin: auto;\" />\n",
    "\n",
    "Based on the training data, more weight is given to the systolic blood pressure. However, we have to keep in mind that the training set had only 70 samples and is thus small."
   ]
  },
  {
   "cell_type": "markdown",
   "id": "9e332e4f",
   "metadata": {},
   "source": [
    "## Further Practice: Iris data\n",
    "\n",
    "You can try to use the Random Forest classifier on the [Iris data](https://en.wikipedia.org/wiki/Iris_flower_data_set):\n",
    "\n",
    "The Iris data are a collection of five features (sepal length, sepal width, petal length, petal width and species) from 3 species of Iris (Iris setosa, Iris virginica and Iris versicolor). The species name is used for training in classification.\n",
    "\n",
    "Import the data from [scikit-learn](https://scikit-learn.org/stable/auto_examples/datasets/plot_iris_dataset.html) as:\n"
   ]
  },
  {
   "cell_type": "code",
   "execution_count": null,
   "id": "9c0c6a7e",
   "metadata": {},
   "outputs": [],
   "source": [
    "from sklearn import datasets\n",
    "\n",
    "# Import Iris data\n",
    "iris = datasets.load_iris()\n",
    "\n",
    "# Get first two features and labels \n",
    "X = iris.data[:, :2]\n",
    "y = iris.target\n",
    "\n",
    "print(X.shape, y.shape)"
   ]
  },
  {
   "cell_type": "markdown",
   "id": "91449978",
   "metadata": {},
   "source": [
    "```{.output}\n",
    "(150, 2) (150,)\n",
    "```\n"
   ]
  },
  {
   "cell_type": "markdown",
   "id": "cd116a55",
   "metadata": {},
   "source": [
    "- Classification is to assign labels to unlabeled data.\n",
    "- `SciKit Learn` is an open source application programming interface (API) for machine learning.\n",
    "- `.fit()` function is used to receive the training data and perform the training of the model.\n",
    "- `.predict()` function helps to find out what the model claims these data to be.\n",
    "- `.predict_proba()` function predicts the probability of any predictions."
   ]
  },
  {
   "cell_type": "markdown",
   "id": "4a7e14a5",
   "metadata": {},
   "source": [
    "[r-markdown]: https://rmarkdown.rstudio.com/"
   ]
  }
 ],
 "metadata": {
  "jupytext": {
   "cell_metadata_filter": "-all",
   "main_language": "python",
   "notebook_metadata_filter": "-all"
  }
 },
 "nbformat": 4,
 "nbformat_minor": 5
}
